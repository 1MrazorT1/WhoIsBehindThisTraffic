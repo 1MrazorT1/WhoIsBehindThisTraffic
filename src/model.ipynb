{
 "cells": [
  {
   "cell_type": "markdown",
   "id": "81d0f110",
   "metadata": {},
   "source": [
    "# FROM FLOWS TO DATAFRAME"
   ]
  },
  {
   "cell_type": "code",
   "execution_count": 12,
   "id": "81273818",
   "metadata": {},
   "outputs": [
    {
     "name": "stdout",
     "output_type": "stream",
     "text": [
      "is_bot\n",
      "0    762384\n",
      "1    286191\n",
      "Name: count, dtype: int64\n"
     ]
    }
   ],
   "source": [
    "import pandas as pd\n",
    "\n",
    "df = pd.read_csv(\"../data/Friday-02-03-2018_Traffic.csv\", low_memory=False)\n",
    "df['is_bot'] = df['Label'].apply(lambda x: 1 if x != 'Benign' else 0)\n",
    "print(df['is_bot'].value_counts())"
   ]
  },
  {
   "cell_type": "markdown",
   "id": "5e4c15bc",
   "metadata": {},
   "source": [
    "# Data Cleaning"
   ]
  },
  {
   "cell_type": "code",
   "execution_count": 13,
   "id": "7070ee81",
   "metadata": {},
   "outputs": [
    {
     "name": "stdout",
     "output_type": "stream",
     "text": [
      "Any NaNs: False\n",
      "Any Infs: False\n"
     ]
    }
   ],
   "source": [
    "import numpy as np\n",
    "\n",
    "# Replace inf/-inf with NaN\n",
    "df.replace([np.inf, -np.inf], np.nan, inplace=True)\n",
    "\n",
    "# Drop rows with NaN (optional: could also fill them with 0)\n",
    "df.dropna(inplace=True)\n",
    "\n",
    "# Check for any remaining problematic values\n",
    "print(\"Any NaNs:\", df.isna().values.any())\n",
    "print(\"Any Infs:\", np.isinf(df.select_dtypes(include=[np.number])).values.any())\n"
   ]
  },
  {
   "cell_type": "markdown",
   "id": "ef6e087d",
   "metadata": {},
   "source": [
    "# Shuffling and splitting the data"
   ]
  },
  {
   "cell_type": "code",
   "execution_count": 14,
   "id": "d85b99b1",
   "metadata": {},
   "outputs": [],
   "source": [
    "from sklearn.model_selection import train_test_split\n",
    "\n",
    "X = df.drop(columns=['Label', 'is_bot', 'Timestamp'])\n",
    "y = df['is_bot']\n",
    "\n",
    "X = X.fillna(0)  # Handle missing values\n",
    "\n",
    "X_train, X_test, y_train, y_test = train_test_split(\n",
    "    X, y, test_size=0.3, stratify=y, random_state=42\n",
    ")"
   ]
  },
  {
   "cell_type": "markdown",
   "id": "3dd090ad",
   "metadata": {},
   "source": [
    "# Training the classifier"
   ]
  },
  {
   "cell_type": "code",
   "execution_count": 15,
   "id": "0ca91685",
   "metadata": {},
   "outputs": [
    {
     "name": "stdout",
     "output_type": "stream",
     "text": [
      "              precision    recall  f1-score   support\n",
      "\n",
      "           0       1.00      1.00      1.00    227501\n",
      "           1       1.00      1.00      1.00     85857\n",
      "\n",
      "    accuracy                           1.00    313358\n",
      "   macro avg       1.00      1.00      1.00    313358\n",
      "weighted avg       1.00      1.00      1.00    313358\n",
      "\n",
      "[[227499      2]\n",
      " [     7  85850]]\n"
     ]
    }
   ],
   "source": [
    "from sklearn.ensemble import RandomForestClassifier\n",
    "from sklearn.metrics import classification_report, confusion_matrix\n",
    "\n",
    "model = RandomForestClassifier(n_estimators=100, random_state=42)\n",
    "model.fit(X_train, y_train)\n",
    "\n",
    "y_pred = model.predict(X_test)\n",
    "\n",
    "print(classification_report(y_test, y_pred))\n",
    "print(confusion_matrix(y_test, y_pred))"
   ]
  },
  {
   "cell_type": "markdown",
   "id": "bc13b950",
   "metadata": {},
   "source": [
    "# Checking feature importance"
   ]
  },
  {
   "cell_type": "code",
   "execution_count": 16,
   "id": "bc31ba8f",
   "metadata": {},
   "outputs": [
    {
     "ename": "ModuleNotFoundError",
     "evalue": "No module named 'matplotlib'",
     "output_type": "error",
     "traceback": [
      "\u001b[31m---------------------------------------------------------------------------\u001b[39m",
      "\u001b[31mModuleNotFoundError\u001b[39m                       Traceback (most recent call last)",
      "\u001b[36mCell\u001b[39m\u001b[36m \u001b[39m\u001b[32mIn[16]\u001b[39m\u001b[32m, line 1\u001b[39m\n\u001b[32m----> \u001b[39m\u001b[32m1\u001b[39m \u001b[38;5;28;01mimport\u001b[39;00m\u001b[38;5;250m \u001b[39m\u001b[34;01mmatplotlib\u001b[39;00m\u001b[34;01m.\u001b[39;00m\u001b[34;01mpyplot\u001b[39;00m\u001b[38;5;250m \u001b[39m\u001b[38;5;28;01mas\u001b[39;00m\u001b[38;5;250m \u001b[39m\u001b[34;01mplt\u001b[39;00m\n\u001b[32m      3\u001b[39m importances = model.feature_importances_\n\u001b[32m      4\u001b[39m features = X.columns\n",
      "\u001b[31mModuleNotFoundError\u001b[39m: No module named 'matplotlib'"
     ]
    }
   ],
   "source": [
    "import matplotlib.pyplot as plt\n",
    "\n",
    "importances = model.feature_importances_\n",
    "features = X.columns\n",
    "\n",
    "plt.figure(figsize=(12, 8))\n",
    "plt.barh(features[:20], importances[:20])\n",
    "plt.title(\"Top 20 Features for Bot Detection\")\n",
    "plt.tight_layout()\n",
    "plt.show()"
   ]
  }
 ],
 "metadata": {
  "kernelspec": {
   "display_name": "myenv",
   "language": "python",
   "name": "python3"
  },
  "language_info": {
   "codemirror_mode": {
    "name": "ipython",
    "version": 3
   },
   "file_extension": ".py",
   "mimetype": "text/x-python",
   "name": "python",
   "nbconvert_exporter": "python",
   "pygments_lexer": "ipython3",
   "version": "3.12.3"
  }
 },
 "nbformat": 4,
 "nbformat_minor": 5
}
